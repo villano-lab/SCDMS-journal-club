{
 "cells": [
  {
   "cell_type": "code",
   "execution_count": 1,
   "metadata": {},
   "outputs": [],
   "source": [
    "import sys\n",
    "sys.path.append('../python/')\n",
    "\n",
    "#matplotlib for plotting\n",
    "import matplotlib as mpl\n",
    "from matplotlib import pyplot as plt\n",
    "plt.style.use('../mplstyles/stylelib/standard.mplstyle')\n",
    "\n",
    "#other computational libraries\n",
    "import numpy as np\n",
    "from scipy import special\n",
    "import math\n",
    "\n",
    "#libraries for reading csv\n",
    "import csv\n",
    "import pandas as pd"
   ]
  },
  {
   "cell_type": "code",
   "execution_count": 2,
   "metadata": {},
   "outputs": [],
   "source": [
    "\n",
    "\n",
    "def plotting(xlabel, ylabel, title = None, grid = True, legend = False, yscale = None, axfsize = 14, legendfsize = 14):\n",
    "    plt.xlabel(xlabel, fontsize = axfsize)\n",
    "    plt.ylabel(ylabel, fontsize = axfsize)\n",
    "    plt.title(title)\n",
    "    if yscale: plt.yscale(yscale)\n",
    "    if grid: plt.grid(alpha =0.2)  \n",
    "    if legend: plt.legend(fontsize = legendfsize)     \n"
   ]
  },
  {
   "cell_type": "code",
   "execution_count": 3,
   "metadata": {},
   "outputs": [
    {
     "name": "stdout",
     "output_type": "stream",
     "text": [
      "0.4328608443834781\n"
     ]
    }
   ],
   "source": [
    "#equation 1.1 of Lewin and Smith\n",
    "MD = 10 #geV\n",
    "MT = 71 #geV approx for germanium\n",
    "\n",
    "r = 4*(MD*MT)/(MD+MT)**2\n",
    "print(r)\n",
    "\n",
    "E0 = 4.4 #keV--a total guess\n",
    "R0 = 1.7*E0*r #to get the rate at Er=0 correct."
   ]
  },
  {
   "cell_type": "code",
   "execution_count": 4,
   "metadata": {},
   "outputs": [],
   "source": [
    "def dRdE(Er):\n",
    "    return (R0/(E0*r))*np.exp(-(Er/(E0*r)))"
   ]
  },
  {
   "cell_type": "code",
   "execution_count": 5,
   "metadata": {},
   "outputs": [],
   "source": [
    "#set up lindhard\n",
    "#Voltage: 75V\n",
    "#remember: Ep = Er + V*(Y(Er)*Er/epsilon)\n",
    "V=75\n",
    "eps=3.0\n",
    "\n",
    "#need a function that will get an Er given an Ep for nuclear recoils this one is for constant yield. \n",
    "def ErNR(Ep):\n",
    "    return Ep/(1+(V*0.3/eps))\n",
    "\n",
    "#now can use this transformation (plus a Jacobian) to get the new distribution\n",
    "#jacobian is dEr/dEp = 1/(V*0.3/eps)\n",
    "def dRdENR(Ep):\n",
    "    return dRdE(ErNR(Ep))*(1/(1+(V*0.3/eps)))"
   ]
  },
  {
   "cell_type": "code",
   "execution_count": 6,
   "metadata": {},
   "outputs": [
    {
     "name": "stdout",
     "output_type": "stream",
     "text": [
      "[0.19950645 0.19703722 0.19459856 0.19219007 0.1898114  0.18746217\n",
      " 0.18514201 0.18285057 0.18058748 0.17835241 0.176145   0.17396491\n",
      " 0.17181181 0.16968535 0.16758521 0.16551106 0.16346258 0.16143946\n",
      " 0.15944138 0.15746802 0.15551909 0.15359429 0.1516933  0.14981584\n",
      " 0.14796162 0.14613035 0.14432174 0.14253552 0.1407714  0.13902912\n",
      " 0.1373084  0.13560898 0.13393059 0.13227298 0.13063588 0.12901904\n",
      " 0.12742221 0.12584515 0.12428761 0.12274934 0.12123011 0.11972969\n",
      " 0.11824783 0.11678432 0.11533891 0.1139114  0.11250156 0.11110916\n",
      " 0.109734   0.10837586 0.10703453 0.1057098  0.10440146 0.10310932\n",
      " 0.10183317 0.10057281 0.09932805 0.0980987  0.09688457 0.09568546\n",
      " 0.09450119 0.09333158 0.09217645 0.09103561 0.08990889 0.08879612\n",
      " 0.08769712 0.08661172 0.08553975 0.08448106 0.08343546 0.08240281\n",
      " 0.08138294 0.08037569 0.0793809  0.07839843 0.07742812 0.07646982\n",
      " 0.07552337 0.07458865 0.07366549 0.07275375 0.0718533  0.070964\n",
      " 0.0700857  0.06921827 0.06836158 0.06751549 0.06667988 0.0658546\n",
      " 0.06503954 0.06423457 0.06343956 0.06265439 0.06187893 0.06111308\n",
      " 0.0603567  0.05960969 0.05887192 0.05814328]\n"
     ]
    },
    {
     "data": {
      "image/png": "[encoded data removed]",
      "text/plain": [
       "<Figure size 1008x504 with 1 Axes>"
      ]
     },
     "metadata": {
      "needs_background": "light"
     },
     "output_type": "display_data"
    }
   ],
   "source": [
    "datarelease = np.append(np.loadtxt('data/event_EnergykeVee_Per1.txt'),np.loadtxt('data/event_EnergykeVee_Per2.txt'), axis = 0)\n",
    "\n",
    "plt.figure(figsize= (14,7))\n",
    "Ervec = np.linspace(0.04,20,100)\n",
    "print(dRdENR(Ervec))\n",
    "plt.plot(Ervec,10*dRdENR(Ervec),color='k',label=\"Lewin Eq. 1.1\")\n",
    "plt.xlim([0,2.5])\n",
    "plt.hist(datarelease, histtype = 'step', color = 'blue', bins = np.linspace(0, 2 , 200))\n",
    "plt.xlabel('ptnf_ee [keV]'); plt.ylabel('a.u.'); plt.grid()\n",
    "plt.show()\n",
    "\n"
   ]
  },
  {
   "cell_type": "code",
   "execution_count": null,
   "metadata": {},
   "outputs": [],
   "source": []
  }
 ],
 "metadata": {
  "kernelspec": {
   "display_name": "Python (fano_pub_new)",
   "language": "python",
   "name": "fano_pub_new"
  },
  "language_info": {
   "codemirror_mode": {
    "name": "ipython",
    "version": 3
   },
   "file_extension": ".py",
   "mimetype": "text/x-python",
   "name": "python",
   "nbconvert_exporter": "python",
   "pygments_lexer": "ipython3",
   "version": "3.8.0"
  }
 },
 "nbformat": 4,
 "nbformat_minor": 4
}
